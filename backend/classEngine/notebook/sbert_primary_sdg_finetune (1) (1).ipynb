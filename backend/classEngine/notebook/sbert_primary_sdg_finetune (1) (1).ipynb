{
 "cells": [
  {
   "cell_type": "markdown",
   "id": "fd7bda25",
   "metadata": {},
   "source": [
    "# SBERT Fine-Tuning on TIP with Primary SDG Labels\n"
   ]
  },
  {
   "cell_type": "code",
   "execution_count": 47,
   "id": "fac1b606",
   "metadata": {},
   "outputs": [
    {
     "name": "stderr",
     "output_type": "stream",
     "text": [
      "huggingface/tokenizers: The current process just got forked, after parallelism has already been used. Disabling parallelism to avoid deadlocks...\n",
      "To disable this warning, you can either:\n",
      "\t- Avoid using `tokenizers` before the fork if possible\n",
      "\t- Explicitly set the environment variable TOKENIZERS_PARALLELISM=(true | false)\n"
     ]
    },
    {
     "name": "stdout",
     "output_type": "stream",
     "text": [
      "Found existing installation: torch 2.7.0\n",
      "Uninstalling torch-2.7.0:\n",
      "  Successfully uninstalled torch-2.7.0\n",
      "\u001b[33mWARNING: Skipping torchaudio as it is not installed.\u001b[0m\u001b[33m\n",
      "\u001b[0m\u001b[33mWARNING: Skipping torchvision as it is not installed.\u001b[0m\u001b[33m\n",
      "\u001b[0m"
     ]
    },
    {
     "name": "stderr",
     "output_type": "stream",
     "text": [
      "huggingface/tokenizers: The current process just got forked, after parallelism has already been used. Disabling parallelism to avoid deadlocks...\n",
      "To disable this warning, you can either:\n",
      "\t- Avoid using `tokenizers` before the fork if possible\n",
      "\t- Explicitly set the environment variable TOKENIZERS_PARALLELISM=(true | false)\n"
     ]
    },
    {
     "name": "stdout",
     "output_type": "stream",
     "text": [
      "Looking in indexes: https://download.pytorch.org/whl/cu128\n",
      "\u001b[31mERROR: Could not find a version that satisfies the requirement torch==2.5.1 (from versions: 2.7.0+cu128)\u001b[0m\u001b[31m\n",
      "\u001b[0m\u001b[31mERROR: No matching distribution found for torch==2.5.1\u001b[0m\u001b[31m\n",
      "\u001b[0m"
     ]
    },
    {
     "name": "stderr",
     "output_type": "stream",
     "text": [
      "huggingface/tokenizers: The current process just got forked, after parallelism has already been used. Disabling parallelism to avoid deadlocks...\n",
      "To disable this warning, you can either:\n",
      "\t- Avoid using `tokenizers` before the fork if possible\n",
      "\t- Explicitly set the environment variable TOKENIZERS_PARALLELISM=(true | false)\n"
     ]
    },
    {
     "name": "stdout",
     "output_type": "stream",
     "text": [
      "Requirement already satisfied: accelerate in /opt/conda/lib/python3.12/site-packages (1.7.0)\n",
      "Requirement already satisfied: sentence-transformers in /opt/conda/lib/python3.12/site-packages (4.1.0)\n",
      "Requirement already satisfied: datasets in /opt/conda/lib/python3.12/site-packages (3.6.0)\n",
      "Requirement already satisfied: numpy<3.0.0,>=1.17 in /opt/conda/lib/python3.12/site-packages (from accelerate) (2.1.3)\n",
      "Requirement already satisfied: packaging>=20.0 in /opt/conda/lib/python3.12/site-packages (from accelerate) (24.2)\n",
      "Requirement already satisfied: psutil in /opt/conda/lib/python3.12/site-packages (from accelerate) (5.9.8)\n",
      "Requirement already satisfied: pyyaml in /opt/conda/lib/python3.12/site-packages (from accelerate) (6.0.2)\n",
      "Collecting torch>=2.0.0 (from accelerate)\n",
      "  Using cached torch-2.7.0-cp312-cp312-manylinux_2_28_x86_64.whl.metadata (29 kB)\n",
      "Requirement already satisfied: huggingface-hub>=0.21.0 in /opt/conda/lib/python3.12/site-packages (from accelerate) (0.32.0)\n",
      "Requirement already satisfied: safetensors>=0.4.3 in /opt/conda/lib/python3.12/site-packages (from accelerate) (0.5.3)\n",
      "Requirement already satisfied: transformers<5.0.0,>=4.41.0 in /opt/conda/lib/python3.12/site-packages (from sentence-transformers) (4.52.3)\n",
      "Requirement already satisfied: tqdm in /opt/conda/lib/python3.12/site-packages (from sentence-transformers) (4.67.1)\n",
      "Requirement already satisfied: scikit-learn in /opt/conda/lib/python3.12/site-packages (from sentence-transformers) (1.6.1)\n",
      "Requirement already satisfied: scipy in /opt/conda/lib/python3.12/site-packages (from sentence-transformers) (1.15.2)\n",
      "Requirement already satisfied: Pillow in /opt/conda/lib/python3.12/site-packages (from sentence-transformers) (11.1.0)\n",
      "Requirement already satisfied: typing_extensions>=4.5.0 in /opt/conda/lib/python3.12/site-packages (from sentence-transformers) (4.12.2)\n",
      "Requirement already satisfied: filelock in /opt/conda/lib/python3.12/site-packages (from datasets) (3.16.1)\n",
      "Requirement already satisfied: pyarrow>=15.0.0 in /opt/conda/lib/python3.12/site-packages (from datasets) (19.0.1)\n",
      "Requirement already satisfied: dill<0.3.9,>=0.3.0 in /opt/conda/lib/python3.12/site-packages (from datasets) (0.3.8)\n",
      "Requirement already satisfied: pandas in /opt/conda/lib/python3.12/site-packages (from datasets) (2.2.3)\n",
      "Requirement already satisfied: requests>=2.32.2 in /opt/conda/lib/python3.12/site-packages (from datasets) (2.32.3)\n",
      "Requirement already satisfied: xxhash in /opt/conda/lib/python3.12/site-packages (from datasets) (3.5.0)\n",
      "Requirement already satisfied: multiprocess<0.70.17 in /opt/conda/lib/python3.12/site-packages (from datasets) (0.70.16)\n",
      "Requirement already satisfied: fsspec<=2025.3.0,>=2023.1.0 in /opt/conda/lib/python3.12/site-packages (from fsspec[http]<=2025.3.0,>=2023.1.0->datasets) (2025.3.0)\n",
      "Requirement already satisfied: aiohttp!=4.0.0a0,!=4.0.0a1 in /opt/conda/lib/python3.12/site-packages (from fsspec[http]<=2025.3.0,>=2023.1.0->datasets) (3.11.14)\n",
      "Requirement already satisfied: hf-xet<2.0.0,>=1.1.2 in /opt/conda/lib/python3.12/site-packages (from huggingface-hub>=0.21.0->accelerate) (1.1.2)\n",
      "Requirement already satisfied: charset_normalizer<4,>=2 in /opt/conda/lib/python3.12/site-packages (from requests>=2.32.2->datasets) (3.4.1)\n",
      "Requirement already satisfied: idna<4,>=2.5 in /opt/conda/lib/python3.12/site-packages (from requests>=2.32.2->datasets) (3.10)\n",
      "Requirement already satisfied: urllib3<3,>=1.21.1 in /opt/conda/lib/python3.12/site-packages (from requests>=2.32.2->datasets) (2.3.0)\n",
      "Requirement already satisfied: certifi>=2017.4.17 in /opt/conda/lib/python3.12/site-packages (from requests>=2.32.2->datasets) (2025.1.31)\n",
      "Requirement already satisfied: setuptools in /opt/conda/lib/python3.12/site-packages (from torch>=2.0.0->accelerate) (75.8.2)\n",
      "Requirement already satisfied: sympy>=1.13.3 in /opt/conda/lib/python3.12/site-packages (from torch>=2.0.0->accelerate) (1.13.3)\n",
      "Requirement already satisfied: networkx in /opt/conda/lib/python3.12/site-packages (from torch>=2.0.0->accelerate) (3.4.2)\n",
      "Requirement already satisfied: jinja2 in /opt/conda/lib/python3.12/site-packages (from torch>=2.0.0->accelerate) (3.1.6)\n",
      "Requirement already satisfied: nvidia-cuda-nvrtc-cu12==12.6.77 in /opt/conda/lib/python3.12/site-packages (from torch>=2.0.0->accelerate) (12.6.77)\n",
      "Requirement already satisfied: nvidia-cuda-runtime-cu12==12.6.77 in /opt/conda/lib/python3.12/site-packages (from torch>=2.0.0->accelerate) (12.6.77)\n",
      "Requirement already satisfied: nvidia-cuda-cupti-cu12==12.6.80 in /opt/conda/lib/python3.12/site-packages (from torch>=2.0.0->accelerate) (12.6.80)\n",
      "Requirement already satisfied: nvidia-cudnn-cu12==9.5.1.17 in /opt/conda/lib/python3.12/site-packages (from torch>=2.0.0->accelerate) (9.5.1.17)\n",
      "Requirement already satisfied: nvidia-cublas-cu12==12.6.4.1 in /opt/conda/lib/python3.12/site-packages (from torch>=2.0.0->accelerate) (12.6.4.1)\n",
      "Requirement already satisfied: nvidia-cufft-cu12==11.3.0.4 in /opt/conda/lib/python3.12/site-packages (from torch>=2.0.0->accelerate) (11.3.0.4)\n",
      "Requirement already satisfied: nvidia-curand-cu12==10.3.7.77 in /opt/conda/lib/python3.12/site-packages (from torch>=2.0.0->accelerate) (10.3.7.77)\n",
      "Requirement already satisfied: nvidia-cusolver-cu12==11.7.1.2 in /opt/conda/lib/python3.12/site-packages (from torch>=2.0.0->accelerate) (11.7.1.2)\n",
      "Requirement already satisfied: nvidia-cusparse-cu12==12.5.4.2 in /opt/conda/lib/python3.12/site-packages (from torch>=2.0.0->accelerate) (12.5.4.2)\n",
      "Requirement already satisfied: nvidia-cusparselt-cu12==0.6.3 in /opt/conda/lib/python3.12/site-packages (from torch>=2.0.0->accelerate) (0.6.3)\n",
      "Requirement already satisfied: nvidia-nccl-cu12==2.26.2 in /opt/conda/lib/python3.12/site-packages (from torch>=2.0.0->accelerate) (2.26.2)\n",
      "Requirement already satisfied: nvidia-nvtx-cu12==12.6.77 in /opt/conda/lib/python3.12/site-packages (from torch>=2.0.0->accelerate) (12.6.77)\n",
      "Requirement already satisfied: nvidia-nvjitlink-cu12==12.6.85 in /opt/conda/lib/python3.12/site-packages (from torch>=2.0.0->accelerate) (12.6.85)\n",
      "Requirement already satisfied: nvidia-cufile-cu12==1.11.1.6 in /opt/conda/lib/python3.12/site-packages (from torch>=2.0.0->accelerate) (1.11.1.6)\n",
      "Requirement already satisfied: triton==3.3.0 in /opt/conda/lib/python3.12/site-packages (from torch>=2.0.0->accelerate) (3.3.0)\n",
      "Requirement already satisfied: regex!=2019.12.17 in /opt/conda/lib/python3.12/site-packages (from transformers<5.0.0,>=4.41.0->sentence-transformers) (2024.11.6)\n",
      "Requirement already satisfied: tokenizers<0.22,>=0.21 in /opt/conda/lib/python3.12/site-packages (from transformers<5.0.0,>=4.41.0->sentence-transformers) (0.21.1)\n",
      "Requirement already satisfied: python-dateutil>=2.8.2 in /opt/conda/lib/python3.12/site-packages (from pandas->datasets) (2.8.2)\n",
      "Requirement already satisfied: pytz>=2020.1 in /opt/conda/lib/python3.12/site-packages (from pandas->datasets) (2024.1)\n",
      "Requirement already satisfied: tzdata>=2022.7 in /opt/conda/lib/python3.12/site-packages (from pandas->datasets) (2025.1)\n",
      "Requirement already satisfied: joblib>=1.2.0 in /opt/conda/lib/python3.12/site-packages (from scikit-learn->sentence-transformers) (1.4.2)\n",
      "Requirement already satisfied: threadpoolctl>=3.1.0 in /opt/conda/lib/python3.12/site-packages (from scikit-learn->sentence-transformers) (3.6.0)\n",
      "Requirement already satisfied: aiohappyeyeballs>=2.3.0 in /opt/conda/lib/python3.12/site-packages (from aiohttp!=4.0.0a0,!=4.0.0a1->fsspec[http]<=2025.3.0,>=2023.1.0->datasets) (2.6.1)\n",
      "Requirement already satisfied: aiosignal>=1.1.2 in /opt/conda/lib/python3.12/site-packages (from aiohttp!=4.0.0a0,!=4.0.0a1->fsspec[http]<=2025.3.0,>=2023.1.0->datasets) (1.3.2)\n",
      "Requirement already satisfied: attrs>=17.3.0 in /opt/conda/lib/python3.12/site-packages (from aiohttp!=4.0.0a0,!=4.0.0a1->fsspec[http]<=2025.3.0,>=2023.1.0->datasets) (25.3.0)\n",
      "Requirement already satisfied: frozenlist>=1.1.1 in /opt/conda/lib/python3.12/site-packages (from aiohttp!=4.0.0a0,!=4.0.0a1->fsspec[http]<=2025.3.0,>=2023.1.0->datasets) (1.5.0)\n",
      "Requirement already satisfied: multidict<7.0,>=4.5 in /opt/conda/lib/python3.12/site-packages (from aiohttp!=4.0.0a0,!=4.0.0a1->fsspec[http]<=2025.3.0,>=2023.1.0->datasets) (6.2.0)\n",
      "Requirement already satisfied: propcache>=0.2.0 in /opt/conda/lib/python3.12/site-packages (from aiohttp!=4.0.0a0,!=4.0.0a1->fsspec[http]<=2025.3.0,>=2023.1.0->datasets) (0.3.0)\n",
      "Requirement already satisfied: yarl<2.0,>=1.17.0 in /opt/conda/lib/python3.12/site-packages (from aiohttp!=4.0.0a0,!=4.0.0a1->fsspec[http]<=2025.3.0,>=2023.1.0->datasets) (1.18.3)\n",
      "Requirement already satisfied: six>=1.5 in /opt/conda/lib/python3.12/site-packages (from python-dateutil>=2.8.2->pandas->datasets) (1.17.0)\n",
      "Requirement already satisfied: mpmath<1.4,>=1.1.0 in /opt/conda/lib/python3.12/site-packages (from sympy>=1.13.3->torch>=2.0.0->accelerate) (1.3.0)\n",
      "Requirement already satisfied: MarkupSafe>=2.0 in /opt/conda/lib/python3.12/site-packages (from jinja2->torch>=2.0.0->accelerate) (3.0.2)\n",
      "Using cached torch-2.7.0-cp312-cp312-manylinux_2_28_x86_64.whl (865.0 MB)\n",
      "Installing collected packages: torch\n",
      "Successfully installed torch-2.7.0\n"
     ]
    },
    {
     "name": "stderr",
     "output_type": "stream",
     "text": [
      "huggingface/tokenizers: The current process just got forked, after parallelism has already been used. Disabling parallelism to avoid deadlocks...\n",
      "To disable this warning, you can either:\n",
      "\t- Avoid using `tokenizers` before the fork if possible\n",
      "\t- Explicitly set the environment variable TOKENIZERS_PARALLELISM=(true | false)\n"
     ]
    },
    {
     "name": "stdout",
     "output_type": "stream",
     "text": [
      "Requirement already satisfied: sentence-transformers in /opt/conda/lib/python3.12/site-packages (4.1.0)\n",
      "Requirement already satisfied: transformers<5.0.0,>=4.41.0 in /opt/conda/lib/python3.12/site-packages (from sentence-transformers) (4.52.3)\n",
      "Requirement already satisfied: tqdm in /opt/conda/lib/python3.12/site-packages (from sentence-transformers) (4.67.1)\n",
      "Requirement already satisfied: torch>=1.11.0 in /opt/conda/lib/python3.12/site-packages (from sentence-transformers) (2.7.0)\n",
      "Requirement already satisfied: scikit-learn in /opt/conda/lib/python3.12/site-packages (from sentence-transformers) (1.6.1)\n",
      "Requirement already satisfied: scipy in /opt/conda/lib/python3.12/site-packages (from sentence-transformers) (1.15.2)\n",
      "Requirement already satisfied: huggingface-hub>=0.20.0 in /opt/conda/lib/python3.12/site-packages (from sentence-transformers) (0.32.0)\n",
      "Requirement already satisfied: Pillow in /opt/conda/lib/python3.12/site-packages (from sentence-transformers) (11.1.0)\n",
      "Requirement already satisfied: typing_extensions>=4.5.0 in /opt/conda/lib/python3.12/site-packages (from sentence-transformers) (4.12.2)\n",
      "Requirement already satisfied: filelock in /opt/conda/lib/python3.12/site-packages (from huggingface-hub>=0.20.0->sentence-transformers) (3.16.1)\n",
      "Requirement already satisfied: fsspec>=2023.5.0 in /opt/conda/lib/python3.12/site-packages (from huggingface-hub>=0.20.0->sentence-transformers) (2025.3.0)\n",
      "Requirement already satisfied: packaging>=20.9 in /opt/conda/lib/python3.12/site-packages (from huggingface-hub>=0.20.0->sentence-transformers) (24.2)\n",
      "Requirement already satisfied: pyyaml>=5.1 in /opt/conda/lib/python3.12/site-packages (from huggingface-hub>=0.20.0->sentence-transformers) (6.0.2)\n",
      "Requirement already satisfied: requests in /opt/conda/lib/python3.12/site-packages (from huggingface-hub>=0.20.0->sentence-transformers) (2.32.3)\n",
      "Requirement already satisfied: hf-xet<2.0.0,>=1.1.2 in /opt/conda/lib/python3.12/site-packages (from huggingface-hub>=0.20.0->sentence-transformers) (1.1.2)\n",
      "Requirement already satisfied: setuptools in /opt/conda/lib/python3.12/site-packages (from torch>=1.11.0->sentence-transformers) (75.8.2)\n",
      "Requirement already satisfied: sympy>=1.13.3 in /opt/conda/lib/python3.12/site-packages (from torch>=1.11.0->sentence-transformers) (1.13.3)\n",
      "Requirement already satisfied: networkx in /opt/conda/lib/python3.12/site-packages (from torch>=1.11.0->sentence-transformers) (3.4.2)\n",
      "Requirement already satisfied: jinja2 in /opt/conda/lib/python3.12/site-packages (from torch>=1.11.0->sentence-transformers) (3.1.6)\n",
      "Requirement already satisfied: nvidia-cuda-nvrtc-cu12==12.6.77 in /opt/conda/lib/python3.12/site-packages (from torch>=1.11.0->sentence-transformers) (12.6.77)\n",
      "Requirement already satisfied: nvidia-cuda-runtime-cu12==12.6.77 in /opt/conda/lib/python3.12/site-packages (from torch>=1.11.0->sentence-transformers) (12.6.77)\n",
      "Requirement already satisfied: nvidia-cuda-cupti-cu12==12.6.80 in /opt/conda/lib/python3.12/site-packages (from torch>=1.11.0->sentence-transformers) (12.6.80)\n",
      "Requirement already satisfied: nvidia-cudnn-cu12==9.5.1.17 in /opt/conda/lib/python3.12/site-packages (from torch>=1.11.0->sentence-transformers) (9.5.1.17)\n",
      "Requirement already satisfied: nvidia-cublas-cu12==12.6.4.1 in /opt/conda/lib/python3.12/site-packages (from torch>=1.11.0->sentence-transformers) (12.6.4.1)\n",
      "Requirement already satisfied: nvidia-cufft-cu12==11.3.0.4 in /opt/conda/lib/python3.12/site-packages (from torch>=1.11.0->sentence-transformers) (11.3.0.4)\n",
      "Requirement already satisfied: nvidia-curand-cu12==10.3.7.77 in /opt/conda/lib/python3.12/site-packages (from torch>=1.11.0->sentence-transformers) (10.3.7.77)\n",
      "Requirement already satisfied: nvidia-cusolver-cu12==11.7.1.2 in /opt/conda/lib/python3.12/site-packages (from torch>=1.11.0->sentence-transformers) (11.7.1.2)\n",
      "Requirement already satisfied: nvidia-cusparse-cu12==12.5.4.2 in /opt/conda/lib/python3.12/site-packages (from torch>=1.11.0->sentence-transformers) (12.5.4.2)\n",
      "Requirement already satisfied: nvidia-cusparselt-cu12==0.6.3 in /opt/conda/lib/python3.12/site-packages (from torch>=1.11.0->sentence-transformers) (0.6.3)\n",
      "Requirement already satisfied: nvidia-nccl-cu12==2.26.2 in /opt/conda/lib/python3.12/site-packages (from torch>=1.11.0->sentence-transformers) (2.26.2)\n",
      "Requirement already satisfied: nvidia-nvtx-cu12==12.6.77 in /opt/conda/lib/python3.12/site-packages (from torch>=1.11.0->sentence-transformers) (12.6.77)\n",
      "Requirement already satisfied: nvidia-nvjitlink-cu12==12.6.85 in /opt/conda/lib/python3.12/site-packages (from torch>=1.11.0->sentence-transformers) (12.6.85)\n",
      "Requirement already satisfied: nvidia-cufile-cu12==1.11.1.6 in /opt/conda/lib/python3.12/site-packages (from torch>=1.11.0->sentence-transformers) (1.11.1.6)\n",
      "Requirement already satisfied: triton==3.3.0 in /opt/conda/lib/python3.12/site-packages (from torch>=1.11.0->sentence-transformers) (3.3.0)\n",
      "Requirement already satisfied: numpy>=1.17 in /opt/conda/lib/python3.12/site-packages (from transformers<5.0.0,>=4.41.0->sentence-transformers) (2.1.3)\n",
      "Requirement already satisfied: regex!=2019.12.17 in /opt/conda/lib/python3.12/site-packages (from transformers<5.0.0,>=4.41.0->sentence-transformers) (2024.11.6)\n",
      "Requirement already satisfied: tokenizers<0.22,>=0.21 in /opt/conda/lib/python3.12/site-packages (from transformers<5.0.0,>=4.41.0->sentence-transformers) (0.21.1)\n",
      "Requirement already satisfied: safetensors>=0.4.3 in /opt/conda/lib/python3.12/site-packages (from transformers<5.0.0,>=4.41.0->sentence-transformers) (0.5.3)\n",
      "Requirement already satisfied: joblib>=1.2.0 in /opt/conda/lib/python3.12/site-packages (from scikit-learn->sentence-transformers) (1.4.2)\n",
      "Requirement already satisfied: threadpoolctl>=3.1.0 in /opt/conda/lib/python3.12/site-packages (from scikit-learn->sentence-transformers) (3.6.0)\n",
      "Requirement already satisfied: mpmath<1.4,>=1.1.0 in /opt/conda/lib/python3.12/site-packages (from sympy>=1.13.3->torch>=1.11.0->sentence-transformers) (1.3.0)\n",
      "Requirement already satisfied: MarkupSafe>=2.0 in /opt/conda/lib/python3.12/site-packages (from jinja2->torch>=1.11.0->sentence-transformers) (3.0.2)\n",
      "Requirement already satisfied: charset_normalizer<4,>=2 in /opt/conda/lib/python3.12/site-packages (from requests->huggingface-hub>=0.20.0->sentence-transformers) (3.4.1)\n",
      "Requirement already satisfied: idna<4,>=2.5 in /opt/conda/lib/python3.12/site-packages (from requests->huggingface-hub>=0.20.0->sentence-transformers) (3.10)\n",
      "Requirement already satisfied: urllib3<3,>=1.21.1 in /opt/conda/lib/python3.12/site-packages (from requests->huggingface-hub>=0.20.0->sentence-transformers) (2.3.0)\n",
      "Requirement already satisfied: certifi>=2017.4.17 in /opt/conda/lib/python3.12/site-packages (from requests->huggingface-hub>=0.20.0->sentence-transformers) (2025.1.31)\n"
     ]
    }
   ],
   "source": [
    "# Install specific GPU-compatible versions of torch/torchaudio for CUDA\n",
    "!pip uninstall -y torch torchaudio torchvision\n",
    "!pip install torch==2.5.1 torchaudio==2.5.1 --index-url https://download.pytorch.org/whl/cu128\n",
    "\n",
    "# Install dependencies for Hugging Face Trainer + SBERT\n",
    "!pip install -U accelerate sentence-transformers datasets\n",
    "\n",
    "!pip install -U sentence-transformers"
   ]
  },
  {
   "cell_type": "code",
   "execution_count": 63,
   "id": "ac022349",
   "metadata": {},
   "outputs": [
    {
     "name": "stdout",
     "output_type": "stream",
     "text": [
      "Torch version: 2.7.0+cu126\n",
      "CUDA available: False\n",
      "Built with CUDA version: 12.6\n",
      "No GPU detected by PyTorch.\n"
     ]
    }
   ],
   "source": [
    "import torch\n",
    "\n",
    "print(\"Torch version:\", torch.__version__)\n",
    "print(\"CUDA available:\", torch.cuda.is_available())\n",
    "print(\"Built with CUDA version:\", torch.version.cuda)\n",
    "\n",
    "if torch.cuda.is_available():\n",
    "    print(\"Number of GPUs:\", torch.cuda.device_count())\n",
    "    print(\"GPU name:\", torch.cuda.get_device_name(0))\n",
    "else:\n",
    "    print(\"No GPU detected by PyTorch.\")"
   ]
  },
  {
   "cell_type": "code",
   "execution_count": 64,
   "id": "0ede61b5",
   "metadata": {},
   "outputs": [
    {
     "name": "stdout",
     "output_type": "stream",
     "text": [
      "Dataset loaded with shape: (10419, 7)\n",
      "Columns: ['doi', 'text_id', 'text', 'sdg', 'labels_negative', 'labels_positive', 'agreement']\n"
     ]
    },
    {
     "data": {
      "text/html": [
       "<div>\n",
       "<style scoped>\n",
       "    .dataframe tbody tr th:only-of-type {\n",
       "        vertical-align: middle;\n",
       "    }\n",
       "\n",
       "    .dataframe tbody tr th {\n",
       "        vertical-align: top;\n",
       "    }\n",
       "\n",
       "    .dataframe thead th {\n",
       "        text-align: right;\n",
       "    }\n",
       "</style>\n",
       "<table border=\"1\" class=\"dataframe\">\n",
       "  <thead>\n",
       "    <tr style=\"text-align: right;\">\n",
       "      <th></th>\n",
       "      <th>doi</th>\n",
       "      <th>text_id</th>\n",
       "      <th>text</th>\n",
       "      <th>sdg</th>\n",
       "      <th>labels_negative</th>\n",
       "      <th>labels_positive</th>\n",
       "      <th>agreement</th>\n",
       "    </tr>\n",
       "  </thead>\n",
       "  <tbody>\n",
       "    <tr>\n",
       "      <th>0</th>\n",
       "      <td>10.6027/9789289342698-7-en</td>\n",
       "      <td>00021941702cd84171ff33962197ca1f</td>\n",
       "      <td>From a gender perspective, Paulgaard points ou...</td>\n",
       "      <td>5.0</td>\n",
       "      <td>1.0</td>\n",
       "      <td>8.0</td>\n",
       "      <td>0.777778</td>\n",
       "    </tr>\n",
       "    <tr>\n",
       "      <th>1</th>\n",
       "      <td>10.18356/eca72908-en</td>\n",
       "      <td>00028349a7f9b2485ff344ae44ccfd6b</td>\n",
       "      <td>Labour legislation regulates maximum working h...</td>\n",
       "      <td>11.0</td>\n",
       "      <td>2.0</td>\n",
       "      <td>1.0</td>\n",
       "      <td>0.333333</td>\n",
       "    </tr>\n",
       "    <tr>\n",
       "      <th>2</th>\n",
       "      <td>10.1787/9789264289062-4-en</td>\n",
       "      <td>0004eb64f96e1620cd852603d9cbe4d4</td>\n",
       "      <td>The average figure also masks large difference...</td>\n",
       "      <td>3.0</td>\n",
       "      <td>1.0</td>\n",
       "      <td>8.0</td>\n",
       "      <td>0.777778</td>\n",
       "    </tr>\n",
       "    <tr>\n",
       "      <th>3</th>\n",
       "      <td>10.1787/3726edff-en</td>\n",
       "      <td>0005d3e8b213d9e2cb967666e1aca2e9</td>\n",
       "      <td>Applied research is directed “primarily toward...</td>\n",
       "      <td>9.0</td>\n",
       "      <td>3.0</td>\n",
       "      <td>6.0</td>\n",
       "      <td>0.333333</td>\n",
       "    </tr>\n",
       "    <tr>\n",
       "      <th>4</th>\n",
       "      <td>10.1787/5k9b7bn5qzvd-en</td>\n",
       "      <td>0006a887475ccfa5a7f5f51d4ac83d02</td>\n",
       "      <td>The extent to which they are akin to corruptio...</td>\n",
       "      <td>3.0</td>\n",
       "      <td>1.0</td>\n",
       "      <td>2.0</td>\n",
       "      <td>0.333333</td>\n",
       "    </tr>\n",
       "  </tbody>\n",
       "</table>\n",
       "</div>"
      ],
      "text/plain": [
       "                          doi                           text_id  \\\n",
       "0  10.6027/9789289342698-7-en  00021941702cd84171ff33962197ca1f   \n",
       "1        10.18356/eca72908-en  00028349a7f9b2485ff344ae44ccfd6b   \n",
       "2  10.1787/9789264289062-4-en  0004eb64f96e1620cd852603d9cbe4d4   \n",
       "3         10.1787/3726edff-en  0005d3e8b213d9e2cb967666e1aca2e9   \n",
       "4     10.1787/5k9b7bn5qzvd-en  0006a887475ccfa5a7f5f51d4ac83d02   \n",
       "\n",
       "                                                text   sdg  labels_negative  \\\n",
       "0  From a gender perspective, Paulgaard points ou...   5.0              1.0   \n",
       "1  Labour legislation regulates maximum working h...  11.0              2.0   \n",
       "2  The average figure also masks large difference...   3.0              1.0   \n",
       "3  Applied research is directed “primarily toward...   9.0              3.0   \n",
       "4  The extent to which they are akin to corruptio...   3.0              1.0   \n",
       "\n",
       "  labels_positive  agreement  \n",
       "0             8.0   0.777778  \n",
       "1             1.0   0.333333  \n",
       "2             8.0   0.777778  \n",
       "3             6.0   0.333333  \n",
       "4             2.0   0.333333  "
      ]
     },
     "execution_count": 64,
     "metadata": {},
     "output_type": "execute_result"
    }
   ],
   "source": [
    "import pandas as pd\n",
    "\n",
    "df = pd.read_csv(\"osdg-community-data-v2024-04-01.csv\", sep=\"\\t\")\n",
    "print(\"Dataset loaded with shape:\", df.shape)\n",
    "print(\"Columns:\", df.columns.tolist())\n",
    "\n",
    "# Drop incomplete rows\n",
    "df = df.dropna(subset=['text', 'sdg'])\n",
    "df['sdg'] = df['sdg'].astype(float)\n",
    "\n",
    "# Log labels_positive for later multi-label use\n",
    "df['labels_positive'] = df['labels_positive'].astype(str)\n",
    "df.head()"
   ]
  },
  {
   "cell_type": "code",
   "execution_count": 65,
   "id": "bad3ea59-59f0-4026-98c4-97966d52ead1",
   "metadata": {},
   "outputs": [],
   "source": [
    "# 1. Imports\n",
    "from datasets import Dataset\n",
    "from sentence_transformers import SentenceTransformer, InputExample, losses, models\n",
    "from sentence_transformers.evaluation import LabelAccuracyEvaluator\n",
    "from torch.utils.data import DataLoader\n",
    "from sklearn.model_selection import train_test_split\n",
    "import pandas as pd\n",
    "import torch\n",
    "import os"
   ]
  },
  {
   "cell_type": "code",
   "execution_count": 66,
   "id": "24bd7274-854a-43a9-ad05-de56c539d764",
   "metadata": {},
   "outputs": [],
   "source": [
    "# 2. Load and clean the dataset\n",
    "df = pd.read_csv(\"osdg-community-data-v2024-04-01.csv\", sep=\"\\t\")\n",
    "df = df.dropna(subset=['text', 'sdg'])\n",
    "df['sdg'] = df['sdg'].astype(int)\n"
   ]
  },
  {
   "cell_type": "code",
   "execution_count": 67,
   "id": "00fa6f89-186b-4055-b398-52827348b82d",
   "metadata": {},
   "outputs": [],
   "source": [
    "# 3. Encode labels\n",
    "unique_labels = sorted(df['sdg'].unique())  # This is correct\n",
    "label2id = {label: idx for idx, label in enumerate(unique_labels)}  # SDG -> model label ID\n",
    "id2label = {v: k for k, v in label2id.items()}  # model label ID -> SDG\n",
    "\n",
    "df['label_id'] = df['sdg'].map(label2id)\n"
   ]
  },
  {
   "cell_type": "code",
   "execution_count": 68,
   "id": "0dc56d73-b362-42d8-b93d-8a4b7f420db8",
   "metadata": {},
   "outputs": [
    {
     "name": "stdout",
     "output_type": "stream",
     "text": [
      "Label2ID mapping: {np.int64(1): 0, np.int64(2): 1, np.int64(3): 2, np.int64(4): 3, np.int64(5): 4, np.int64(6): 5, np.int64(7): 6, np.int64(8): 7, np.int64(9): 8, np.int64(10): 9, np.int64(11): 10, np.int64(12): 11, np.int64(13): 12, np.int64(14): 13, np.int64(15): 14, np.int64(16): 15}\n",
      "Total labels: 16\n"
     ]
    }
   ],
   "source": [
    "print(\"Label2ID mapping:\", label2id)\n",
    "print(\"Total labels:\", len(label2id))"
   ]
  },
  {
   "cell_type": "code",
   "execution_count": 69,
   "id": "7007b173-2ec2-4c82-a01b-7b385c1d190a",
   "metadata": {},
   "outputs": [],
   "source": [
    "# 4. Split into train and eval\n",
    "train_df, eval_df = train_test_split(df, test_size=0.1, random_state=42)\n",
    "\n",
    "# Provide two identical sentences per InputExample for SoftmaxLoss\n",
    "train_samples = [\n",
    "    InputExample(texts=[row['text'], row['text']], label=row['label_id'])\n",
    "    for _, row in train_df.iterrows()\n",
    "]\n",
    "eval_samples = [\n",
    "    InputExample(texts=[row['text'], row['text']], label=row['label_id'])\n",
    "    for _, row in eval_df.iterrows()\n",
    "]"
   ]
  },
  {
   "cell_type": "code",
   "execution_count": 70,
   "id": "bbc654f5-d29a-4c94-a6f4-1f4b99507b02",
   "metadata": {},
   "outputs": [
    {
     "name": "stdout",
     "output_type": "stream",
     "text": [
      "\n",
      "Sample training example:\n",
      "<InputExample> label: 6, texts: Moreover, the energy integration process is not limited simply to creation of physical links across the region. It requires a series of policies and regulations for facilitating different types of flows inherent in this process. This requires intervention and leadership by the member governments and technical experts if regional energy connectivity is to happen. To a great extent, this demonstrates die lack of human and institutional capabilities, political leadership, and market mechanisms.; Moreover, the energy integration process is not limited simply to creation of physical links across the region. It requires a series of policies and regulations for facilitating different types of flows inherent in this process. This requires intervention and leadership by the member governments and technical experts if regional energy connectivity is to happen. To a great extent, this demonstrates die lack of human and institutional capabilities, political leadership, and market mechanisms.\n"
     ]
    }
   ],
   "source": [
    "from sentence_transformers import InputExample\n",
    "\n",
    "print(\"\\nSample training example:\")\n",
    "print(train_samples[0])  # Should show InputExample(texts=[...], label=...)"
   ]
  },
  {
   "cell_type": "code",
   "execution_count": 71,
   "id": "5216a30b-650b-4ace-9489-1b08429cf616",
   "metadata": {},
   "outputs": [],
   "source": [
    "# 5. DataLoaders\n",
    "train_dataloader = DataLoader(train_samples, shuffle=True, batch_size=16)\n",
    "eval_dataloader = DataLoader(eval_samples, shuffle=False, batch_size=16)"
   ]
  },
  {
   "cell_type": "code",
   "execution_count": 72,
   "id": "dbf6bf8a-4bf8-4f05-bdcc-46f6741bd35a",
   "metadata": {},
   "outputs": [],
   "source": [
    "from sentence_transformers import SentenceTransformer, losses\n",
    "import torch.nn as nn\n",
    "import torch\n",
    "\n",
    "class CustomSoftmaxLoss(losses.SoftmaxLoss):\n",
    "    def forward(self, sentence_features, labels):\n",
    "        reps = [self.model(sentence_feature)['sentence_embedding'] for sentence_feature in sentence_features]\n",
    "\n",
    "        rep_a, rep_b = reps\n",
    "        vectors_concat = [rep_a, rep_b, torch.abs(rep_a - rep_b), rep_a * rep_b]  # Include 4 components\n",
    "        features = torch.cat(vectors_concat, dim=1)\n",
    "\n",
    "        output = self.classifier(features)\n",
    "\n",
    "        if labels is not None:\n",
    "            loss = self.loss_fct(output, labels.view(-1))\n",
    "            return loss\n",
    "        else:\n",
    "            return None, output  # <-- Fix: return prediction properly for evaluator"
   ]
  },
  {
   "cell_type": "code",
   "execution_count": 73,
   "id": "6e83d566-cdf6-4833-89aa-13a90382dc1f",
   "metadata": {},
   "outputs": [],
   "source": [
    "# 6. Define SBERT model\n",
    "from sentence_transformers import SentenceTransformer, losses, models\n",
    "from sentence_transformers.evaluation import LabelAccuracyEvaluator\n",
    "\n",
    "# Load base model\n",
    "word_embedding_model = models.Transformer('sentence-transformers/all-MiniLM-L6-v2')\n",
    "pooling_model = models.Pooling(word_embedding_model.get_word_embedding_dimension())\n",
    "model = SentenceTransformer(modules=[word_embedding_model, pooling_model])\n",
    "\n",
    "# Define loss using built-in SoftmaxLoss\n",
    "train_loss = CustomSoftmaxLoss(\n",
    "    model=model,\n",
    "    sentence_embedding_dimension=pooling_model.get_sentence_embedding_dimension(),\n",
    "    num_labels=len(label2id)\n",
    ")\n",
    "\n",
    "# Fix: Update classifier input shape\n",
    "train_loss.classifier = torch.nn.Linear(\n",
    "    pooling_model.get_sentence_embedding_dimension() * 4,\n",
    "    len(label2id)\n",
    ")\n",
    "\n",
    "evaluator = LabelAccuracyEvaluator(eval_dataloader, name='sdg_eval')\n",
    "evaluator.softmax_model = train_loss"
   ]
  },
  {
   "cell_type": "code",
   "execution_count": 74,
   "id": "ff25dd01-0a0e-42bf-a1aa-3aec9a58ff79",
   "metadata": {},
   "outputs": [
    {
     "name": "stdout",
     "output_type": "stream",
     "text": [
      "<class 'sentence_transformers.SentenceTransformer.SentenceTransformer'>\n",
      "\n",
      "Embedding dimension for softmax loss:\n",
      "Expected: 384\n",
      "Expected input dim for classifier: 1536\n",
      "Actual classifier weight shape: torch.Size([16, 1536])\n"
     ]
    }
   ],
   "source": [
    "print(type(model))\n",
    "print(\"\\nEmbedding dimension for softmax loss:\")\n",
    "print(\"Expected:\", pooling_model.get_sentence_embedding_dimension())\n",
    "print(\"Expected input dim for classifier:\", pooling_model.get_sentence_embedding_dimension() * 4)\n",
    "print(\"Actual classifier weight shape:\", train_loss.classifier.weight.shape)"
   ]
  },
  {
   "cell_type": "code",
   "execution_count": 75,
   "id": "d5f9a49e-ffc2-46e6-a4da-e8aca298fc56",
   "metadata": {},
   "outputs": [
    {
     "name": "stdout",
     "output_type": "stream",
     "text": [
      "\n",
      "Verifying evaluator setup:\n",
      "Type of evaluator: <class 'sentence_transformers.evaluation.LabelAccuracyEvaluator.LabelAccuracyEvaluator'>\n",
      "Evaluator has softmax_model? True\n",
      "Type of softmax_model: <class '__main__.CustomSoftmaxLoss'>\n",
      "softmax_model is None? False\n",
      "Classifier layer of softmax_model: Linear(in_features=1536, out_features=16, bias=True)\n"
     ]
    }
   ],
   "source": [
    "print(\"\\nVerifying evaluator setup:\")\n",
    "print(\"Type of evaluator:\", type(evaluator))\n",
    "print(\"Evaluator has softmax_model?\", hasattr(evaluator, 'softmax_model'))\n",
    "print(\"Type of softmax_model:\", type(evaluator.softmax_model))\n",
    "print(\"softmax_model is None?\", evaluator.softmax_model is None)\n",
    "\n",
    "# Optional: check internal classifier layer\n",
    "if hasattr(evaluator.softmax_model, 'classifier'):\n",
    "    print(\"Classifier layer of softmax_model:\", evaluator.softmax_model.classifier)"
   ]
  },
  {
   "cell_type": "code",
   "execution_count": 76,
   "id": "39f93843-da10-4b5b-8538-0e7aff01f4c3",
   "metadata": {},
   "outputs": [],
   "source": [
    "# 8. Output path\n",
    "output_path = \"./output-sdg-softmax\"\n",
    "os.makedirs(output_path, exist_ok=True)"
   ]
  },
  {
   "cell_type": "code",
   "execution_count": 77,
   "id": "89bf169b-987d-4b28-9722-d50a4614ce7d",
   "metadata": {},
   "outputs": [
    {
     "name": "stdout",
     "output_type": "stream",
     "text": [
      "Classifier output shape: torch.Size([1, 16])\n"
     ]
    }
   ],
   "source": [
    "# Dummy input for feature shape validation\n",
    "import torch\n",
    "\n",
    "correct_input_dim = train_loss.classifier.in_features\n",
    "sample_input = torch.rand(1, correct_input_dim)\n",
    "\n",
    "output = train_loss.classifier(sample_input)\n",
    "\n",
    "print(\"Classifier output shape:\", output.shape)"
   ]
  },
  {
   "cell_type": "code",
   "execution_count": 78,
   "id": "bfb80882-f68d-42ea-a720-29c608414ad3",
   "metadata": {},
   "outputs": [
    {
     "data": {
      "application/vnd.jupyter.widget-view+json": {
       "model_id": "b198f11d25aa4a38a4986b0c5641317b",
       "version_major": 2,
       "version_minor": 0
      },
      "text/plain": [
       "Computing widget examples:   0%|          | 0/1 [00:00<?, ?example/s]"
      ]
     },
     "metadata": {},
     "output_type": "display_data"
    },
    {
     "name": "stderr",
     "output_type": "stream",
     "text": [
      "/opt/conda/lib/python3.12/site-packages/torch/utils/data/dataloader.py:665: UserWarning: 'pin_memory' argument is set as true but no accelerator is found, then device pinned memory won't be used.\n",
      "  warnings.warn(warn_msg)\n"
     ]
    },
    {
     "data": {
      "text/html": [
       "\n",
       "    <div>\n",
       "      \n",
       "      <progress value='586' max='586' style='width:300px; height:20px; vertical-align: middle;'></progress>\n",
       "      [586/586 24:04, Epoch 1/1]\n",
       "    </div>\n",
       "    <table border=\"1\" class=\"dataframe\">\n",
       "  <thead>\n",
       " <tr style=\"text-align: left;\">\n",
       "      <th>Step</th>\n",
       "      <th>Training Loss</th>\n",
       "      <th>Validation Loss</th>\n",
       "      <th>Sdg Eval Accuracy</th>\n",
       "    </tr>\n",
       "  </thead>\n",
       "  <tbody>\n",
       "    <tr>\n",
       "      <td>586</td>\n",
       "      <td>1.674300</td>\n",
       "      <td>No log</td>\n",
       "      <td>0.713052</td>\n",
       "    </tr>\n",
       "  </tbody>\n",
       "</table><p>"
      ],
      "text/plain": [
       "<IPython.core.display.HTML object>"
      ]
     },
     "metadata": {},
     "output_type": "display_data"
    }
   ],
   "source": [
    "# 9. Train\n",
    "model.fit(\n",
    "    train_objectives=[(train_dataloader, train_loss)],\n",
    "    evaluator=evaluator,\n",
    "    epochs=1,  # Increase if needed\n",
    "    evaluation_steps=1000,\n",
    "    output_path=output_path,\n",
    "    warmup_steps=100\n",
    ")\n",
    "\n",
    "# Fine Tuning done!"
   ]
  },
  {
   "cell_type": "code",
   "execution_count": 79,
   "id": "c235b705-4d97-4087-a23a-f3c663fe0d52",
   "metadata": {},
   "outputs": [],
   "source": [
    "def predict_sdg(sent1, sent2, model, classifier, id2label):\n",
    "    features = [model.tokenize([s]) for s in [sent1, sent2]]\n",
    "    with torch.no_grad():\n",
    "        reps = [model(feat)[\"sentence_embedding\"] for feat in features]\n",
    "        rep_a, rep_b = reps\n",
    "        combined = torch.cat([rep_a, rep_b, torch.abs(rep_a - rep_b), rep_a * rep_b], dim=1)\n",
    "        logits = classifier(combined)\n",
    "        pred_id = torch.argmax(logits, dim=1).item()\n",
    "        return pred_id, id2label[pred_id]"
   ]
  },
  {
   "cell_type": "code",
   "execution_count": 80,
   "id": "efd474d8-b668-44a7-ad00-e9e019debb35",
   "metadata": {},
   "outputs": [],
   "source": [
    "sdg_names = {\n",
    "    1: \"No Poverty\", 2: \"Zero Hunger\", 3: \"Good Health and Well-being\",\n",
    "    4: \"Quality Education\", 5: \"Gender Equality\", 6: \"Clean Water and Sanitation\",\n",
    "    7: \"Affordable and Clean Energy\", 8: \"Decent Work and Economic Growth\",\n",
    "    9: \"Industry, Innovation and Infrastructure\", 10: \"Reduced Inequality\",\n",
    "    11: \"Sustainable Cities and Communities\", 12: \"Responsible Consumption and Production\",\n",
    "    13: \"Climate Action\", 14: \"Life Below Water\", 15: \"Life on Land\", 16: \"Peace, Justice and Strong Institutions\"\n",
    "}\n"
   ]
  },
  {
   "cell_type": "code",
   "execution_count": 83,
   "id": "bfa09d70-ac06-469e-9d46-a367482274ad",
   "metadata": {},
   "outputs": [
    {
     "name": "stdout",
     "output_type": "stream",
     "text": [
      "Predicted SDG Label ID: 6\n",
      "Predicted SDG Number: 7\n",
      "SDG Name: Affordable and Clean Energy\n"
     ]
    }
   ],
   "source": [
    "example1 = (\n",
    "    \"Carbon emissions are rising due to increased fossil fuel use.\",\n",
    "    \"Urgent action is needed to combat climate change.\"\n",
    ")\n",
    "\n",
    "pred_id, sdg_number = predict_sdg(*example1, model, train_loss.classifier, id2label)\n",
    "print(\"Predicted SDG Label ID:\", pred_id)\n",
    "print(\"Predicted SDG Number:\", sdg_number)\n",
    "print(\"SDG Name:\", sdg_names[sdg_number])"
   ]
  },
  {
   "cell_type": "code",
   "execution_count": 84,
   "id": "e76f14b4-600a-4738-92dd-7ad9ff0ddbb4",
   "metadata": {},
   "outputs": [
    {
     "name": "stdout",
     "output_type": "stream",
     "text": [
      "Predicted SDG Label ID: 10\n",
      "Predicted SDG Number: 11\n",
      "SDG Name: Sustainable Cities and Communities\n"
     ]
    }
   ],
   "source": [
    "# Example: Infrastructure and sustainable cities\n",
    "sent1 = \"Urban transportation systems need to be upgraded to support growing populations.\"\n",
    "sent2 = \"Sustainable infrastructure is key to building inclusive and resilient cities.\"\n",
    "\n",
    "pred_id, sdg_number = predict_sdg(sent1, sent2, model, train_loss.classifier, id2label)\n",
    "print(\"Predicted SDG Label ID:\", pred_id)\n",
    "print(\"Predicted SDG Number:\", sdg_number)\n",
    "print(\"SDG Name:\", sdg_names[sdg_number])"
   ]
  },
  {
   "cell_type": "code",
   "execution_count": 86,
   "id": "a561e4a2-213a-4582-81b5-d02ff3ee48ba",
   "metadata": {},
   "outputs": [
    {
     "data": {
      "image/png": "[encoded data removed]",
      "text/plain": [
       "<Figure size 1000x500 with 1 Axes>"
      ]
     },
     "metadata": {},
     "output_type": "display_data"
    }
   ],
   "source": [
    "import matplotlib.pyplot as plt\n",
    "import seaborn as sns\n",
    "\n",
    "# Suppose you collect results like this:\n",
    "predicted_labels = [7, 11]  # Predicted SDG numbers\n",
    "\n",
    "# Optional: Convert to names\n",
    "predicted_names = [sdg_names[label] for label in predicted_labels]\n",
    "\n",
    "# Plot\n",
    "plt.figure(figsize=(10, 5))\n",
    "sns.countplot(x=predicted_names, order=sorted(set(predicted_names)))\n",
    "plt.title(\"Distribution of Predicted SDG Classes\")\n",
    "plt.xticks(rotation=45, ha=\"right\")\n",
    "plt.ylabel(\"Frequency\")\n",
    "plt.tight_layout()\n",
    "plt.show()"
   ]
  },
  {
   "cell_type": "code",
   "execution_count": null,
   "id": "a77a1b21-5440-4261-a523-3fdc5fee467a",
   "metadata": {},
   "outputs": [],
   "source": []
  }
 ],
 "metadata": {
  "kernelspec": {
   "display_name": "Python 3 (ipykernel)",
   "language": "python",
   "name": "python3"
  },
  "language_info": {
   "codemirror_mode": {
    "name": "ipython",
    "version": 3
   },
   "file_extension": ".py",
   "mimetype": "text/x-python",
   "name": "python",
   "nbconvert_exporter": "python",
   "pygments_lexer": "ipython3",
   "version": "3.12.9"
  }
 },
 "nbformat": 4,
 "nbformat_minor": 5
}
